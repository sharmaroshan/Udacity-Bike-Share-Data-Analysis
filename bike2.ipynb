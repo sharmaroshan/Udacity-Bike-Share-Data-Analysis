{
 "cells": [
  {
   "cell_type": "code",
   "execution_count": 90,
   "metadata": {},
   "outputs": [],
   "source": [
    "#import all necessary packages and functions.\n",
    "import csv # read and write csv files\n",
    "import pandas as pd\n",
    "import numpy as np\n",
    "import matplotlib.pyplot as plt\n",
    "from datetime import datetime # operations to parse dates\n",
    "from pprint import pprint # use to print data structures like dictionaries in\n",
    "                          # a nicer way than the base print function."
   ]
  },
  {
   "cell_type": "code",
   "execution_count": 91,
   "metadata": {},
   "outputs": [
    {
     "name": "stdout",
     "output_type": "stream",
     "text": [
      "\n",
      "City: NYC\n",
      "OrderedDict([('tripduration', '839'),\n",
      "             ('starttime', '1/1/2016 00:09:55'),\n",
      "             ('stoptime', '1/1/2016 00:23:54'),\n",
      "             ('start station id', '532'),\n",
      "             ('start station name', 'S 5 Pl & S 4 St'),\n",
      "             ('start station latitude', '40.710451'),\n",
      "             ('start station longitude', '-73.960876'),\n",
      "             ('end station id', '401'),\n",
      "             ('end station name', 'Allen St & Rivington St'),\n",
      "             ('end station latitude', '40.72019576'),\n",
      "             ('end station longitude', '-73.98997825'),\n",
      "             ('bikeid', '17109'),\n",
      "             ('usertype', 'Customer'),\n",
      "             ('birth year', ''),\n",
      "             ('gender', '0')])\n",
      "\n",
      "City: Chicago\n",
      "OrderedDict([('trip_id', '9080545'),\n",
      "             ('starttime', '3/31/2016 23:30'),\n",
      "             ('stoptime', '3/31/2016 23:46'),\n",
      "             ('bikeid', '2295'),\n",
      "             ('tripduration', '926'),\n",
      "             ('from_station_id', '156'),\n",
      "             ('from_station_name', 'Clark St & Wellington Ave'),\n",
      "             ('to_station_id', '166'),\n",
      "             ('to_station_name', 'Ashland Ave & Wrightwood Ave'),\n",
      "             ('usertype', 'Subscriber'),\n",
      "             ('gender', 'Male'),\n",
      "             ('birthyear', '1990')])\n",
      "\n",
      "City: Washington\n",
      "OrderedDict([('Duration (ms)', '427387'),\n",
      "             ('Start date', '3/31/2016 22:57'),\n",
      "             ('End date', '3/31/2016 23:04'),\n",
      "             ('Start station number', '31602'),\n",
      "             ('Start station', 'Park Rd & Holmead Pl NW'),\n",
      "             ('End station number', '31207'),\n",
      "             ('End station', 'Georgia Ave and Fairmont St NW'),\n",
      "             ('Bike number', 'W20842'),\n",
      "             ('Member Type', 'Registered')])\n"
     ]
    }
   ],
   "source": [
    "def print_first_point(data_file):\n",
    "    city = data_file.split('-')[0]\n",
    "    print('\\nCity: {}'.format(city))\n",
    "    \n",
    "    with open(data_file, 'r') as f_in:\n",
    "\n",
    "        trip_reader = csv.DictReader(f_in)\n",
    "        first_trip = next(trip_reader)\n",
    "        pprint(first_trip)\n",
    "    return (city, first_trip)\n",
    "\n",
    "data_files = ['NYC-CitiBike-2016.csv',\n",
    "              'Chicago-Divvy-2016.csv',\n",
    "              'Washington-CapitalBikeshare-2016.csv',]\n",
    "example_trips = {}\n",
    "for data_file in data_files:\n",
    "    city, first_trip = print_first_point(data_file)\n",
    "    example_trips[city] = first_trip"
   ]
  },
  {
   "cell_type": "code",
   "execution_count": 92,
   "metadata": {},
   "outputs": [],
   "source": [
    "def duration_in_mins(datum, city):\n",
    "    if city == 'NYC':\n",
    "        duration = float(datum['tripduration'])\n",
    "    elif city == 'Chicago':\n",
    "        duration = float(datum['tripduration'])\n",
    "    else:\n",
    "        duration = float(datum['Duration (ms)'])/1000\n",
    "    \n",
    "    return duration/60\n",
    "        \n",
    "tests = {'NYC': 13.9833,\n",
    "         'Chicago': 15.4333,\n",
    "         'Washington': 7.1231}\n",
    "for city in tests:\n",
    "    assert abs(duration_in_mins(example_trips[city], city) - tests[city]) < .001"
   ]
  },
  {
   "cell_type": "code",
   "execution_count": 93,
   "metadata": {},
   "outputs": [],
   "source": [
    "def time_of_trip(datum, city):\n",
    "    if city == 'NYC':\n",
    "        month =  datum['starttime'].split('/')[0]\n",
    "        hour = datum['starttime'].split()[1].split(':')[0]\n",
    "        day_of_week = datetime.strptime('1/1/2016 00:09:55','%m/%d/%Y %H:%M:%S').strftime('%A')\n",
    "           \n",
    "    elif city == 'Chicago':\n",
    "        month =  datum['starttime'].split('/')[0]\n",
    "        hour = datum['starttime'].split()[1].split(':')[0]\n",
    "        day_of_week = datetime.strptime('3/31/2016 23:30','%m/%d/%Y %H:%M').strftime('%A')\n",
    "         \n",
    "    else:\n",
    "        month =  datum['Start date'].split('/')[0]\n",
    "        hour = datum['Start date'].split()[1].split(':')[0]\n",
    "        day_of_week = datetime.strptime('3/31/2016 22:57','%m/%d/%Y %H:%M').strftime('%A')\n",
    "        \n",
    "    return(int(month), int(hour), day_of_week)\n",
    "\n",
    "tests = {'NYC': (1, 0, 'Friday'),\n",
    "         'Chicago': (3, 23, 'Thursday'),\n",
    "         'Washington': (3, 22, 'Thursday')}\n",
    "\n",
    "for city in tests:\n",
    "    assert time_of_trip(example_trips[city], city) == tests[city]"
   ]
  },
  {
   "cell_type": "code",
   "execution_count": 94,
   "metadata": {},
   "outputs": [],
   "source": [
    "def type_of_user(datum, city):\n",
    "    if city =='NYC':\n",
    "        user_type = datum['usertype']\n",
    "    \n",
    "    elif city =='Chicago':\n",
    "        user_type = datum['usertype']\n",
    "       \n",
    "    else :\n",
    "        if datum['Member Type'] == 'Registered':\n",
    "            user_type = 'Subscriber'\n",
    "        else :\n",
    "            user_type = 'Customer'\n",
    "    return(user_type)\n",
    "            \n",
    "\n",
    "tests = {'NYC': 'Customer',\n",
    "         'Chicago': 'Subscriber',\n",
    "         'Washington': 'Subscriber'}\n",
    "\n",
    "for city in tests:\n",
    "    assert type_of_user(example_trips[city], city) == tests[city]"
   ]
  },
  {
   "cell_type": "code",
   "execution_count": 95,
   "metadata": {},
   "outputs": [],
   "source": [
    "def condense_data(in_file, out_file, city):\n",
    "    with open(out_file, 'w') as f_out, open(in_file, 'r') as f_in:\n",
    "        out_colnames = ['duration', 'month', 'hour', 'day_of_week', 'user_type']        \n",
    "        trip_writer = csv.DictWriter(f_out, fieldnames = out_colnames)\n",
    "        trip_writer.writeheader()\n",
    "        \n",
    "        trip_reader = list(csv.DictReader(f_in))\n",
    "\n",
    "        for row in trip_reader:\n",
    "            new_point = {}\n",
    "            month, hour, day_of_week = time_of_trip(row, city)\n",
    "            new_point['duration'] = duration_in_mins(row, city)\n",
    "            new_point['month'] = month\n",
    "            new_point['hour'] = hour\n",
    "            new_point['day_of_week'] = day_of_week\n",
    "            new_point['user_type'] = type_of_user(row, city)\n",
    "\n",
    "            f_out.write(\"{},\".format(new_point['duration']))\n",
    "            f_out.write(\"{},\".format(new_point['month']))\n",
    "            f_out.write(\"{},\".format(new_point['hour']))\n",
    "            f_out.write(\"{},\".format(new_point['day_of_week']))\n",
    "            f_out.write(\"{}\\n\".format(new_point['user_type']))"
   ]
  },
  {
   "cell_type": "code",
   "execution_count": 96,
   "metadata": {},
   "outputs": [
    {
     "name": "stdout",
     "output_type": "stream",
     "text": [
      "\n",
      "City: Washington\n",
      "OrderedDict([('duration', '7.123116666666666'),\n",
      "             ('month', '3'),\n",
      "             ('hour', '22'),\n",
      "             ('day_of_week', 'Thursday'),\n",
      "             ('user_type', 'Subscriber')])\n",
      "\n",
      "City: Chicago\n",
      "OrderedDict([('duration', '15.433333333333334'),\n",
      "             ('month', '3'),\n",
      "             ('hour', '23'),\n",
      "             ('day_of_week', 'Thursday'),\n",
      "             ('user_type', 'Subscriber')])\n",
      "\n",
      "City: NYC\n",
      "OrderedDict([('duration', '13.983333333333333'),\n",
      "             ('month', '1'),\n",
      "             ('hour', '0'),\n",
      "             ('day_of_week', 'Friday'),\n",
      "             ('user_type', 'Customer')])\n"
     ]
    }
   ],
   "source": [
    "# Run this cell to check your work\n",
    "city_info = {'Washington': {'in_file': 'Washington-CapitalBikeshare-2016.csv',\n",
    "                            'out_file': 'Washington-2016-Summary.csv'},\n",
    "             'Chicago': {'in_file': 'Chicago-Divvy-2016.csv',\n",
    "                         'out_file': 'Chicago-2016-Summary.csv'},\n",
    "             'NYC': {'in_file': 'NYC-CitiBike-2016.csv',\n",
    "                     'out_file': 'NYC-2016-Summary.csv'}}\n",
    "\n",
    "for city, filenames in city_info.items():\n",
    "    condense_data(filenames['in_file'], filenames['out_file'], city)\n",
    "    print_first_point(filenames['out_file'])"
   ]
  },
  {
   "cell_type": "code",
   "execution_count": 97,
   "metadata": {},
   "outputs": [],
   "source": [
    "def number_of_trips(filename):\n",
    "    with open(filename, 'r') as f_in:\n",
    "        reader = csv.DictReader(f_in)\n",
    "\n",
    "        no_subscribers = 0\n",
    "        no_customers = 0\n",
    "   \n",
    "        for row in reader:\n",
    "            if row['user_type'] == 'Subscriber':\n",
    "                no_subscribers += 1\n",
    "            else:\n",
    "                no_customers += 1\n",
    "    \n",
    "        total = no_subscribers + no_customers\n",
    "        return(no_subscribers, no_customers, total)"
   ]
  },
  {
   "cell_type": "code",
   "execution_count": 98,
   "metadata": {},
   "outputs": [
    {
     "name": "stdout",
     "output_type": "stream",
     "text": [
      "(245896, 30902, 276798)\n",
      "(54982, 17149, 72131)\n",
      "(51753, 14573, 66326)\n"
     ]
    }
   ],
   "source": [
    "data_file = 'NYC-2016-Summary.csv'\n",
    "print(number_of_trips(data_file))\n",
    "\n",
    "data_file = 'Chicago-2016-Summary.csv'\n",
    "print(number_of_trips(data_file))\n",
    "\n",
    "data_file = 'Washington-2016-Summary.csv'\n",
    "print(number_of_trips(data_file))"
   ]
  },
  {
   "cell_type": "code",
   "execution_count": 99,
   "metadata": {},
   "outputs": [],
   "source": [
    "def avg_trip_length(filename) :\n",
    "    avg_time = 0\n",
    "    total_time = 0\n",
    "    trip_count = 0\n",
    "    long_trip = 0\n",
    "    percent_long_trip = 0\n",
    "    \n",
    "    with open(filename,'r') as f_in :\n",
    "        avgdur_reader = csv.DictReader(f_in)\n",
    "        \n",
    "        for row in avgdur_reader :\n",
    "            time = float(row.get('duration'))\n",
    "            total_time += time\n",
    "            if time > 30 :\n",
    "                long_trip += 1\n",
    "            trip_count += 1   \n",
    "        avg_time = float(total_time/trip_count)\n",
    "        percent_long_trip = float((long_trip/trip_count)*100)\n",
    "        return(avg_time ,percent_long_trip) "
   ]
  },
  {
   "cell_type": "code",
   "execution_count": 100,
   "metadata": {},
   "outputs": [
    {
     "name": "stdout",
     "output_type": "stream",
     "text": [
      "NYC: Avg Len:15.81259299802294 min, %age of long trip:7.3024371563378345\n",
      "Chicago: Avg Len:16.563629368787335 min, %age of long trip:8.332062497400562\n",
      "Washington: Avg Len:18.93287355913721 min, %age of long trip:10.83888671109369\n"
     ]
    }
   ],
   "source": [
    "data_file_N = 'NYC-2016-Summary.csv'\n",
    "data_file_C = 'Chicago-2016-Summary.csv'\n",
    "data_file_W = 'Washington-2016-Summary.csv'\n",
    "\n",
    "avg_time ,percent_long_trip = avg_trip_length(data_file_N)\n",
    "print(\"NYC: Avg Len:{} min, %age of long trip:{}\".format(avg_time ,percent_long_trip))\n",
    "\n",
    "avg_time, percent_long_trip = avg_trip_length(data_file_C)\n",
    "print(\"Chicago: Avg Len:{} min, %age of long trip:{}\".format(avg_time ,percent_long_trip))\n",
    "\n",
    "avg_time, percent_long_trip = avg_trip_length(data_file_W)\n",
    "print(\"Washington: Avg Len:{} min, %age of long trip:{}\".format(avg_time ,percent_long_trip))"
   ]
  },
  {
   "cell_type": "code",
   "execution_count": 101,
   "metadata": {},
   "outputs": [],
   "source": [
    "def avg_trip_length(filename) :\n",
    "    avg_time = 0\n",
    "    total_time = 0\n",
    "    trip_count = 0\n",
    "    long_trip = 0\n",
    "    percent_long_trip = 0\n",
    "    \n",
    "    with open(filename,'r') as f_in :\n",
    "        avgdur_reader = csv.DictReader(f_in)\n",
    "\n",
    "        for row in avgdur_reader :\n",
    "            time = float(row.get('duration'))\n",
    "            total_time += time\n",
    "\n",
    "            if time > 30 :\n",
    "                long_trip += 1\n",
    "            trip_count += 1   \n",
    "\n",
    "        avg_time = float(total_time/trip_count)\n",
    "        percent_long_trip = float((long_trip/trip_count)*100)\n",
    "        return(avg_time ,percent_long_trip) "
   ]
  },
  {
   "cell_type": "code",
   "execution_count": 102,
   "metadata": {},
   "outputs": [
    {
     "name": "stdout",
     "output_type": "stream",
     "text": [
      "NYC: Avg Len:15.81259299802294 min, %age of long trip:7.3024371563378345\n",
      "Chicago: Avg Len:16.563629368787335 min, %age of long trip:8.332062497400562\n",
      "Washington: Avg Len:18.93287355913721 min, %age of long trip:10.83888671109369\n"
     ]
    }
   ],
   "source": [
    "data_file_N = 'NYC-2016-Summary.csv'\n",
    "data_file_C = 'Chicago-2016-Summary.csv'\n",
    "data_file_W = 'Washington-2016-Summary.csv'\n",
    "\n",
    "avg_time ,percent_long_trip = avg_trip_length(data_file_N)\n",
    "print(\"NYC: Avg Len:{} min, %age of long trip:{}\".format(avg_time ,percent_long_trip))\n",
    "\n",
    "avg_time, percent_long_trip = avg_trip_length(data_file_C)\n",
    "print(\"Chicago: Avg Len:{} min, %age of long trip:{}\".format(avg_time ,percent_long_trip))\n",
    "\n",
    "avg_time, percent_long_trip = avg_trip_length(data_file_W)\n",
    "print(\"Washington: Avg Len:{} min, %age of long trip:{}\".format(avg_time ,percent_long_trip))\n"
   ]
  },
  {
   "cell_type": "code",
   "execution_count": 103,
   "metadata": {},
   "outputs": [],
   "source": [
    "def user_trip_duration(filename):\n",
    "    duration_of_customer = 0\n",
    "    duration_of_subscriber = 0\n",
    "    trip_cust = 0\n",
    "    trip_subs = 0\n",
    "    \n",
    "    with open(filename,'r') as f_in :\n",
    "        userdur_reader = csv.DictReader(f_in)\n",
    "        for row in userdur_reader:\n",
    "            if row.get('user_type') == 'Customer':\n",
    "                duration_of_customer += float(row['duration'])\n",
    "                trip_cust += 1\n",
    "            else:\n",
    "                duration_of_subscriber += float(row['duration'])\n",
    "                trip_subs += 1\n",
    "\n",
    "        avg_customer_trip = (duration_of_customer/trip_cust)\n",
    "        avg_subscriber_trip = (duration_of_subscriber/trip_subs)\n",
    "        return(avg_customer_trip ,avg_subscriber_trip)"
   ]
  },
  {
   "cell_type": "code",
   "execution_count": 104,
   "metadata": {},
   "outputs": [
    {
     "name": "stdout",
     "output_type": "stream",
     "text": [
      "NYC: Avg cust trip:32.982004306775025 , Avg subs trip:13.711087074350004\n",
      "Chicago: Avg cust trip:30.979781133982506 , Avg subs trip:12.067201690250076\n",
      "Washington: Avg cust trip:41.67803139252976 min, Avg subs trip:12.528120499294745\n"
     ]
    }
   ],
   "source": [
    "data_file_N = 'NYC-2016-Summary.csv'\n",
    "data_file_C = 'Chicago-2016-Summary.csv'\n",
    "data_file_W = 'Washington-2016-Summary.csv'\n",
    "\n",
    "avg_customer_trip ,avg_subscriber_trip = user_trip_duration(data_file_N)\n",
    "print(\"NYC: Avg cust trip:{} , Avg subs trip:{}\".format(avg_customer_trip ,avg_subscriber_trip))\n",
    "\n",
    "avg_customer_trip, avg_subscriber_trip = user_trip_duration(data_file_C)\n",
    "print(\"Chicago: Avg cust trip:{} , Avg subs trip:{}\".format(avg_customer_trip ,avg_subscriber_trip))\n",
    "\n",
    "avg_customer_trip, avg_subscriber_trip = user_trip_duration(data_file_W)\n",
    "print(\"Washington: Avg cust trip:{} min, Avg subs trip:{}\".format(avg_customer_trip ,avg_subscriber_trip))\n"
   ]
  },
  {
   "cell_type": "code",
   "execution_count": 105,
   "metadata": {},
   "outputs": [
    {
     "data": {
      "image/png": "[encoded data removed]",
      "text/plain": [
       "<matplotlib.figure.Figure at 0x7fc5283f12b0>"
      ]
     },
     "metadata": {},
     "output_type": "display_data"
    }
   ],
   "source": [
    "import matplotlib.pyplot as plt\n",
    "%matplotlib inline \n",
    "\n",
    "data = [ 7.65,  8.92,  7.42,  5.50, 16.17,  4.20,  8.98,  9.62, 11.48, 14.33,\n",
    "        19.02, 21.53,  3.90,  7.97,  2.62,  2.67,  3.08, 14.40, 12.90,  7.83,\n",
    "        25.12,  8.30,  4.93, 12.43, 10.60,  6.17, 10.88,  4.78, 15.15,  3.53,\n",
    "         9.43, 13.32, 11.72,  9.85,  5.22, 15.10,  3.95,  3.17,  8.78,  1.88,\n",
    "         4.55, 12.68, 12.38,  9.78,  7.63,  6.45, 17.38, 11.90, 11.52,  8.63,]\n",
    "plt.hist(data)\n",
    "plt.title('Distribution of Trip Durations')\n",
    "plt.xlabel('Duration (m)')\n",
    "plt.show()"
   ]
  },
  {
   "cell_type": "code",
   "execution_count": 106,
   "metadata": {},
   "outputs": [
    {
     "data": {
      "image/png": "[encoded data removed]",
      "text/plain": [
       "<matplotlib.figure.Figure at 0x7fc4e30011d0>"
      ]
     },
     "metadata": {},
     "output_type": "display_data"
    }
   ],
   "source": [
    "## Use this and additional cells to collect all of the trip times as a list ##\n",
    "## and then use pyplot functions to generate a histogram of trip times.     ##\n",
    "import matplotlib.pyplot as plt\n",
    "%matplotlib inline\n",
    "\n",
    "def histogram(filename):\n",
    "    with open(filename,'r') as f_in :\n",
    "        r = csv.DictReader(f_in)\n",
    "        trip = []\n",
    "        for i in r :\n",
    "            trip += row['duration']\n",
    "        return trip\n",
    "\n",
    "filename = 'NYC-2016-Summary.csv'\n",
    "plt.hist(filename,bins = 5,rwidth = 0.5)\n",
    "plt.xlabel(\"Duration in mins\")\n",
    "plt.title(\"Distribution of trip duration\")\n",
    "plt.show()\n"
   ]
  },
  {
   "cell_type": "code",
   "execution_count": 107,
   "metadata": {},
   "outputs": [
    {
     "data": {
      "image/png": "[encoded data removed]",
      "text/plain": [
       "<matplotlib.figure.Figure at 0x7fc528f77a20>"
      ]
     },
     "metadata": {},
     "output_type": "display_data"
    },
    {
     "data": {
      "image/png": "[encoded data removed]",
      "text/plain": [
       "<matplotlib.figure.Figure at 0x7fc52e94ac88>"
      ]
     },
     "metadata": {},
     "output_type": "display_data"
    }
   ],
   "source": [
    "def histogram_subscriber(filename,user_type='Subscriber'):\n",
    "    with open(filename,'r') as f_in:\n",
    "        reader=csv.DictReader(f_in)\n",
    "        duration_list=[]\n",
    "        for row in reader:\n",
    "            if row['user_type']==user_type:\n",
    "                duration_list.append(float(row['duration']))\n",
    "    return duration_list\n",
    "\n",
    "filename = 'Washington-2016-Summary.csv'\n",
    "plt.hist(histogram_subscriber(filename), range=[0,75],rwidth=0.7,color = 'yellow')\n",
    "plt.title('Distribution of Trip Durations For Subscribers')\n",
    "plt.xlabel('Duration in mins')\n",
    "plt.show()\n",
    "\n",
    "filename = 'Washington-2016-Summary.csv'\n",
    "plt.hist(histogram_subscriber(filename,user_type='Customer'), range=[0,75],rwidth=0.7,color ='pink')\n",
    "plt.title('Distribution of Trip Durations For Customers')\n",
    "plt.xlabel('Duration in mins')\n",
    "plt.show()"
   ]
  },
  {
   "cell_type": "code",
   "execution_count": 108,
   "metadata": {},
   "outputs": [
    {
     "data": {
      "text/plain": [
       "1"
      ]
     },
     "execution_count": 108,
     "metadata": {},
     "output_type": "execute_result"
    }
   ],
   "source": [
    "from subprocess import call\n",
    "call(['python', '-m', 'nbconvert', 'Bike_Share_Analysis.ipynb'])"
   ]
  }
 ],
 "metadata": {
  "kernelspec": {
   "display_name": "Python 3.6",
   "language": "python",
   "name": "python36"
  },
  "language_info": {
   "codemirror_mode": {
    "name": "ipython",
    "version": 3
   },
   "file_extension": ".py",
   "mimetype": "text/x-python",
   "name": "python",
   "nbconvert_exporter": "python",
   "pygments_lexer": "ipython3",
   "version": "3.6.3"
  }
 },
 "nbformat": 4,
 "nbformat_minor": 2
}
